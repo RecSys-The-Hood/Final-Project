{
  "cells": [
    {
      "cell_type": "markdown",
      "metadata": {},
      "source": [
        "## Image Captioning "
      ]
    },
    {
      "cell_type": "code",
      "execution_count": null,
      "metadata": {
        "colab": {
          "base_uri": "https://localhost:8080/"
        },
        "id": "purFWA2PTsKk",
        "outputId": "8c530e19-de99-48a5-80de-8595902ef330"
      },
      "outputs": [
        {
          "name": "stdout",
          "output_type": "stream",
          "text": [
            "Drive already mounted at /content/drive; to attempt to forcibly remount, call drive.mount(\"/content/drive\", force_remount=True).\n"
          ]
        }
      ],
      "source": [
        "from google.colab import drive\n",
        "drive.mount('/content/drive')"
      ]
    },
    {
      "cell_type": "code",
      "execution_count": null,
      "metadata": {
        "id": "tVWdUPTGUvd1"
      },
      "outputs": [],
      "source": [
        "import pandas as pd\n",
        "import requests\n",
        "from PIL import Image\n",
        "import torch\n",
        "from transformers import BlipProcessor, BlipForConditionalGeneration"
      ]
    },
    {
      "cell_type": "code",
      "execution_count": null,
      "metadata": {
        "id": "U7tZEI-9UwSp"
      },
      "outputs": [],
      "source": [
        "df = pd.read_csv('/content/drive/MyDrive/data.csv')"
      ]
    },
    {
      "cell_type": "code",
      "execution_count": null,
      "metadata": {
        "colab": {
          "base_uri": "https://localhost:8080/"
        },
        "id": "q55KQ4I_WEOX",
        "outputId": "952690a8-9287-411e-fb39-04513dd0f62b"
      },
      "outputs": [
        {
          "name": "stderr",
          "output_type": "stream",
          "text": [
            "/usr/local/lib/python3.10/dist-packages/huggingface_hub/utils/_token.py:88: UserWarning: \n",
            "The secret `HF_TOKEN` does not exist in your Colab secrets.\n",
            "To authenticate with the Hugging Face Hub, create a token in your settings tab (https://huggingface.co/settings/tokens), set it as secret in your Google Colab and restart your session.\n",
            "You will be able to reuse this secret in all of your notebooks.\n",
            "Please note that authentication is recommended but still optional to access public models or datasets.\n",
            "  warnings.warn(\n"
          ]
        }
      ],
      "source": [
        "processor = BlipProcessor.from_pretrained(\"Salesforce/blip-image-captioning-large\")\n",
        "model = BlipForConditionalGeneration.from_pretrained(\"Salesforce/blip-image-captioning-large\", torch_dtype=torch.float16).to(\"cuda\")\n",
        "# Initialize Blip processor and model\n",
        "\n",
        "# Function to generate caption for an image\n",
        "def generate_caption(image_path):\n",
        "    # Load image\n",
        "    raw_image = Image.open(image_path).convert('RGB')\n",
        "\n",
        "    # Perform conditional image captioning\n",
        "    text = \"a photograph of\"\n",
        "    inputs = processor(raw_image, text, return_tensors=\"pt\").to(\"cuda\", torch.float16)\n",
        "    out = model.generate(**inputs, min_length=20)  # Adjust min_length as needed\n",
        "    caption = processor.decode(out[0], skip_special_tokens=True)\n",
        "\n",
        "    return caption\n",
        "# Function to process each row\n",
        "\n",
        "def process_row(row):\n",
        "    # Extract URLs from 'originalPhotos' column\n",
        "    photo_urls = eval(row['originalPhotos'])  # Convert string representation to list\n",
        "\n",
        "    # Initialize a list to store captions\n",
        "    captions = []\n",
        "    try:\n",
        "        # Loop through each photo URL\n",
        "        for url in photo_urls:\n",
        "            # Send request to download the image\n",
        "            response = requests.get(url)\n",
        "            image_path = url.split('/')[-1]  # Extract image filename\n",
        "            with open(image_path, 'wb') as f:\n",
        "                f.write(response.content)\n",
        "\n",
        "            # Generate caption for the image\n",
        "            caption = generate_caption(image_path)\n",
        "            captions.append(caption)\n",
        "\n",
        "        # Return concatenated captions\n",
        "        return '; '.join(captions)\n",
        "    except:\n",
        "      print(\"Error\")\n",
        "# Function to process and save data every specified number of rows\n",
        "def process_and_save_from_index(df, start_index, batch_size, output_file_prefix='/content/drive/MyDrive/processed_data_'):\n",
        "    total_rows = len(df)\n",
        "    num_batches = (total_rows - start_index) // batch_size + 1\n",
        "\n",
        "    for batch_index in range(num_batches):\n",
        "        current_index = start_index + batch_index * batch_size\n",
        "        end_index = min(current_index + batch_size, total_rows)\n",
        "\n",
        "        if current_index >= total_rows:\n",
        "            break\n",
        "\n",
        "        batch_df = df.iloc[current_index:end_index]\n",
        "        batch_df['image_captions'] = batch_df.apply(process_row, axis=1)\n",
        "\n",
        "        output_file = f\"{output_file_prefix}{current_index + 1}_to_{end_index}.csv\"\n",
        "        batch_df.to_csv(output_file, index=False)\n",
        "\n",
        "        print(f\"Processed and saved rows {current_index + 1} to {end_index} to {output_file}\")\n",
        "        # break"
      ]
    },
    {
      "cell_type": "code",
      "execution_count": null,
      "metadata": {
        "colab": {
          "base_uri": "https://localhost:8080/"
        },
        "id": "8HR3BNDCWR--",
        "outputId": "79e98e77-f4e8-4531-c5b1-3a902a139500"
      },
      "outputs": [
        {
          "name": "stderr",
          "output_type": "stream",
          "text": [
            "/usr/local/lib/python3.10/dist-packages/transformers/generation/utils.py:1178: UserWarning: Using the model-agnostic default `max_length` (=20) to control the generation length. We recommend setting `max_new_tokens` to control the maximum length of the generation.\n",
            "  warnings.warn(\n",
            "/usr/local/lib/python3.10/dist-packages/transformers/generation/utils.py:1178: UserWarning: Using the model-agnostic default `max_length` (=20) to control the generation length. We recommend setting `max_new_tokens` to control the maximum length of the generation.\n",
            "  warnings.warn(\n",
            "<ipython-input-4-deb3982ce8ab>:55: SettingWithCopyWarning: \n",
            "A value is trying to be set on a copy of a slice from a DataFrame.\n",
            "Try using .loc[row_indexer,col_indexer] = value instead\n",
            "\n",
            "See the caveats in the documentation: https://pandas.pydata.org/pandas-docs/stable/user_guide/indexing.html#returning-a-view-versus-a-copy\n",
            "  batch_df['image_captions'] = batch_df.apply(process_row, axis=1)\n"
          ]
        },
        {
          "name": "stdout",
          "output_type": "stream",
          "text": [
            "Processed and saved rows 302 to 401 to /content/drive/MyDrive/processed_data_302_to_401.csv\n"
          ]
        },
        {
          "name": "stderr",
          "output_type": "stream",
          "text": [
            "/usr/local/lib/python3.10/dist-packages/transformers/generation/utils.py:1178: UserWarning: Using the model-agnostic default `max_length` (=20) to control the generation length. We recommend setting `max_new_tokens` to control the maximum length of the generation.\n",
            "  warnings.warn(\n"
          ]
        },
        {
          "name": "stdout",
          "output_type": "stream",
          "text": [
            "Error\n"
          ]
        },
        {
          "name": "stderr",
          "output_type": "stream",
          "text": [
            "<ipython-input-4-deb3982ce8ab>:55: SettingWithCopyWarning: \n",
            "A value is trying to be set on a copy of a slice from a DataFrame.\n",
            "Try using .loc[row_indexer,col_indexer] = value instead\n",
            "\n",
            "See the caveats in the documentation: https://pandas.pydata.org/pandas-docs/stable/user_guide/indexing.html#returning-a-view-versus-a-copy\n",
            "  batch_df['image_captions'] = batch_df.apply(process_row, axis=1)\n"
          ]
        },
        {
          "name": "stdout",
          "output_type": "stream",
          "text": [
            "Processed and saved rows 402 to 501 to /content/drive/MyDrive/processed_data_402_to_501.csv\n"
          ]
        },
        {
          "name": "stderr",
          "output_type": "stream",
          "text": [
            "/usr/local/lib/python3.10/dist-packages/transformers/generation/utils.py:1178: UserWarning: Using the model-agnostic default `max_length` (=20) to control the generation length. We recommend setting `max_new_tokens` to control the maximum length of the generation.\n",
            "  warnings.warn(\n"
          ]
        }
      ],
      "source": [
        "start_index = 501# Change this according to your requirement\n",
        "batch_size = 100\n",
        "\n",
        "# Process and save the data\n",
        "process_and_save_from_index(df, start_index, batch_size)\n",
        "\n",
        "print(\"All data processed and saved.\")"
      ]
    }
  ],
  "metadata": {
    "accelerator": "GPU",
    "colab": {
      "gpuType": "T4",
      "provenance": []
    },
    "kernelspec": {
      "display_name": "Python 3",
      "name": "python3"
    },
    "language_info": {
      "name": "python"
    }
  },
  "nbformat": 4,
  "nbformat_minor": 0
}
