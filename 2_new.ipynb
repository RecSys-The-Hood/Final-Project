{
 "cells": [
  {
   "cell_type": "code",
   "execution_count": 13,
   "metadata": {},
   "outputs": [
    {
     "ename": "ImportError",
     "evalue": "cannot import name '_get_object_size' from 'bson' (c:\\Users\\Admin\\miniconda3\\envs\\recsys\\Lib\\site-packages\\bson\\__init__.py)",
     "output_type": "error",
     "traceback": [
      "\u001b[1;31m---------------------------------------------------------------------------\u001b[0m",
      "\u001b[1;31mImportError\u001b[0m                               Traceback (most recent call last)",
      "Cell \u001b[1;32mIn[13], line 4\u001b[0m\n\u001b[0;32m      2\u001b[0m \u001b[38;5;28;01mfrom\u001b[39;00m \u001b[38;5;21;01mtyping\u001b[39;00m \u001b[38;5;28;01mimport\u001b[39;00m List\n\u001b[0;32m      3\u001b[0m \u001b[38;5;28;01mimport\u001b[39;00m \u001b[38;5;21;01mhttpx\u001b[39;00m\n\u001b[1;32m----> 4\u001b[0m \u001b[38;5;28;01mfrom\u001b[39;00m \u001b[38;5;21;01mwalkscore_api\u001b[39;00m \u001b[38;5;28;01mimport\u001b[39;00m WalkScore\n\u001b[0;32m      5\u001b[0m \u001b[38;5;28;01mimport\u001b[39;00m \u001b[38;5;21;01mjson\u001b[39;00m\n\u001b[0;32m      6\u001b[0m \u001b[38;5;28;01mfrom\u001b[39;00m \u001b[38;5;21;01mparsel\u001b[39;00m \u001b[38;5;28;01mimport\u001b[39;00m Selector\n",
      "File \u001b[1;32mc:\\Users\\Admin\\Desktop\\Semester_6\\RecSys\\Final-Project\\walkscore_api.py:6\u001b[0m\n\u001b[0;32m      4\u001b[0m \u001b[38;5;28;01mimport\u001b[39;00m \u001b[38;5;21;01mjson\u001b[39;00m\n\u001b[0;32m      5\u001b[0m \u001b[38;5;66;03m# from itertools import zip\u001b[39;00m\n\u001b[1;32m----> 6\u001b[0m \u001b[38;5;28;01mfrom\u001b[39;00m \u001b[38;5;21;01mpymongo\u001b[39;00m \u001b[38;5;28;01mimport\u001b[39;00m MongoClient\n\u001b[0;32m      7\u001b[0m \u001b[38;5;28;01mfrom\u001b[39;00m \u001b[38;5;21;01mbson\u001b[39;00m\u001b[38;5;21;01m.\u001b[39;00m\u001b[38;5;21;01mobjectid\u001b[39;00m \u001b[38;5;28;01mimport\u001b[39;00m ObjectId\n\u001b[0;32m      8\u001b[0m \u001b[38;5;28;01mimport\u001b[39;00m \u001b[38;5;21;01mos\u001b[39;00m\n",
      "File \u001b[1;32mc:\\Users\\Admin\\miniconda3\\envs\\recsys\\Lib\\site-packages\\pymongo\\__init__.py:90\u001b[0m\n\u001b[0;32m     88\u001b[0m \u001b[38;5;28;01mfrom\u001b[39;00m \u001b[38;5;21;01mpymongo\u001b[39;00m \u001b[38;5;28;01mimport\u001b[39;00m _csot\n\u001b[0;32m     89\u001b[0m \u001b[38;5;28;01mfrom\u001b[39;00m \u001b[38;5;21;01mpymongo\u001b[39;00m\u001b[38;5;21;01m.\u001b[39;00m\u001b[38;5;21;01m_version\u001b[39;00m \u001b[38;5;28;01mimport\u001b[39;00m __version__, get_version_string, version_tuple\n\u001b[1;32m---> 90\u001b[0m \u001b[38;5;28;01mfrom\u001b[39;00m \u001b[38;5;21;01mpymongo\u001b[39;00m\u001b[38;5;21;01m.\u001b[39;00m\u001b[38;5;21;01mcollection\u001b[39;00m \u001b[38;5;28;01mimport\u001b[39;00m ReturnDocument\n\u001b[0;32m     91\u001b[0m \u001b[38;5;28;01mfrom\u001b[39;00m \u001b[38;5;21;01mpymongo\u001b[39;00m\u001b[38;5;21;01m.\u001b[39;00m\u001b[38;5;21;01mcommon\u001b[39;00m \u001b[38;5;28;01mimport\u001b[39;00m MAX_SUPPORTED_WIRE_VERSION, MIN_SUPPORTED_WIRE_VERSION\n\u001b[0;32m     92\u001b[0m \u001b[38;5;28;01mfrom\u001b[39;00m \u001b[38;5;21;01mpymongo\u001b[39;00m\u001b[38;5;21;01m.\u001b[39;00m\u001b[38;5;21;01mcursor\u001b[39;00m \u001b[38;5;28;01mimport\u001b[39;00m CursorType\n",
      "File \u001b[1;32mc:\\Users\\Admin\\miniconda3\\envs\\recsys\\Lib\\site-packages\\pymongo\\collection.py:40\u001b[0m\n\u001b[0;32m     38\u001b[0m \u001b[38;5;28;01mfrom\u001b[39;00m \u001b[38;5;21;01mbson\u001b[39;00m\u001b[38;5;21;01m.\u001b[39;00m\u001b[38;5;21;01mcodec_options\u001b[39;00m \u001b[38;5;28;01mimport\u001b[39;00m DEFAULT_CODEC_OPTIONS, CodecOptions\n\u001b[0;32m     39\u001b[0m \u001b[38;5;28;01mfrom\u001b[39;00m \u001b[38;5;21;01mbson\u001b[39;00m\u001b[38;5;21;01m.\u001b[39;00m\u001b[38;5;21;01mobjectid\u001b[39;00m \u001b[38;5;28;01mimport\u001b[39;00m ObjectId\n\u001b[1;32m---> 40\u001b[0m \u001b[38;5;28;01mfrom\u001b[39;00m \u001b[38;5;21;01mbson\u001b[39;00m\u001b[38;5;21;01m.\u001b[39;00m\u001b[38;5;21;01mraw_bson\u001b[39;00m \u001b[38;5;28;01mimport\u001b[39;00m RawBSONDocument\n\u001b[0;32m     41\u001b[0m \u001b[38;5;28;01mfrom\u001b[39;00m \u001b[38;5;21;01mbson\u001b[39;00m\u001b[38;5;21;01m.\u001b[39;00m\u001b[38;5;21;01mson\u001b[39;00m \u001b[38;5;28;01mimport\u001b[39;00m SON\n\u001b[0;32m     42\u001b[0m \u001b[38;5;28;01mfrom\u001b[39;00m \u001b[38;5;21;01mbson\u001b[39;00m\u001b[38;5;21;01m.\u001b[39;00m\u001b[38;5;21;01mtimestamp\u001b[39;00m \u001b[38;5;28;01mimport\u001b[39;00m Timestamp\n",
      "File \u001b[1;32mc:\\Users\\Admin\\miniconda3\\envs\\recsys\\Lib\\site-packages\\bson\\raw_bson.py:57\u001b[0m\n\u001b[0;32m     53\u001b[0m \u001b[38;5;28;01mfrom\u001b[39;00m \u001b[38;5;21;01m__future__\u001b[39;00m \u001b[38;5;28;01mimport\u001b[39;00m annotations\n\u001b[0;32m     55\u001b[0m \u001b[38;5;28;01mfrom\u001b[39;00m \u001b[38;5;21;01mtyping\u001b[39;00m \u001b[38;5;28;01mimport\u001b[39;00m Any, ItemsView, Iterator, Mapping, MutableMapping, Optional\n\u001b[1;32m---> 57\u001b[0m \u001b[38;5;28;01mfrom\u001b[39;00m \u001b[38;5;21;01mbson\u001b[39;00m \u001b[38;5;28;01mimport\u001b[39;00m _get_object_size, _raw_to_dict\n\u001b[0;32m     58\u001b[0m \u001b[38;5;28;01mfrom\u001b[39;00m \u001b[38;5;21;01mbson\u001b[39;00m\u001b[38;5;21;01m.\u001b[39;00m\u001b[38;5;21;01mcodec_options\u001b[39;00m \u001b[38;5;28;01mimport\u001b[39;00m _RAW_BSON_DOCUMENT_MARKER, CodecOptions\n\u001b[0;32m     59\u001b[0m \u001b[38;5;28;01mfrom\u001b[39;00m \u001b[38;5;21;01mbson\u001b[39;00m\u001b[38;5;21;01m.\u001b[39;00m\u001b[38;5;21;01mcodec_options\u001b[39;00m \u001b[38;5;28;01mimport\u001b[39;00m DEFAULT_CODEC_OPTIONS \u001b[38;5;28;01mas\u001b[39;00m DEFAULT\n",
      "\u001b[1;31mImportError\u001b[0m: cannot import name '_get_object_size' from 'bson' (c:\\Users\\Admin\\miniconda3\\envs\\recsys\\Lib\\site-packages\\bson\\__init__.py)"
     ]
    }
   ],
   "source": [
    "import asyncio\n",
    "from typing import List\n",
    "import httpx\n",
    "from walkscore_api import WalkScore\n",
    "import json\n",
    "from parsel import Selector\n",
    "import pandas as pd"
   ]
  },
  {
   "cell_type": "code",
   "execution_count": null,
   "metadata": {},
   "outputs": [],
   "source": [
    "async def scrape_properties(urls: List[str], client):\n",
    "\n",
    "    to_scrape = [client.get(url) for url in urls]\n",
    "    results = []\n",
    "\n",
    "    for response in asyncio.as_completed(to_scrape):\n",
    "        response = await response\n",
    "        assert response.status_code == 200, \"request has been blocked\"\n",
    "        selector = Selector(response.text)\n",
    "        data = selector.css(\"script#__NEXT_DATA__::text\").get()\n",
    "        if data:\n",
    "            # Option 1: some properties are located in NEXT DATA cache\n",
    "            data = json.loads(data)\n",
    "\n",
    "            results_temp = data[\"props\"][\"pageProps\"][\"searchPageState\"][\"cat1\"][\"searchResults\"][\"listResults\"]\n",
    "            results.extend(results_temp)\n",
    "    \n",
    "    return results"
   ]
  },
  {
   "cell_type": "code",
   "execution_count": null,
   "metadata": {},
   "outputs": [],
   "source": [
    "client = httpx.AsyncClient(\n",
    "    # enable http2\n",
    "    http2=True,\n",
    "    # add basic browser like headers to prevent being blocked\n",
    "    headers={\n",
    "        \"accept-language\": \"en-US,en;q=0.9\",\n",
    "        \"user-agent\": \"Mozilla/5.0 (Windows NT 10.0; Win64; x64) AppleWebKit/537.36 (KHTML, like Gecko) Chrome/96.0.4664.110 Safari/537.36\",\n",
    "        \"accept\": \"text/html,application/xhtml+xml,application/xml;q=0.9,image/webp,image/apng,*/*;q=0.8\",\n",
    "        \"accept-language\": \"en-US;en;q=0.9\",\n",
    "        \"accept-encoding\": \"gzip, deflate, br\",\n",
    "    },\n",
    ")\n",
    "\n",
    "urls = ['https://www.zillow.com/los-angeles-ca/']"
   ]
  },
  {
   "cell_type": "code",
   "execution_count": null,
   "metadata": {},
   "outputs": [],
   "source": [
    "results = await scrape_properties(urls, client)"
   ]
  },
  {
   "cell_type": "code",
   "execution_count": null,
   "metadata": {},
   "outputs": [
    {
     "data": {
      "text/plain": [
       "0         Studio City\n",
       "1         Los Angeles\n",
       "2       Beverly Hills\n",
       "3        Sherman Oaks\n",
       "4       Granada Hills\n",
       "5              Sylmar\n",
       "6             Sunland\n",
       "7          Chatsworth\n",
       "8       Mission Hills\n",
       "9      Woodland Hills\n",
       "10        Los Angeles\n",
       "11        Los Angeles\n",
       "12        Los Angeles\n",
       "13     Woodland Hills\n",
       "14         Wilmington\n",
       "15    North Hollywood\n",
       "16    North Hollywood\n",
       "17          San Pedro\n",
       "18     Woodland Hills\n",
       "19      Playa Del Rey\n",
       "20        Canoga Park\n",
       "21        North Hills\n",
       "22        Los Angeles\n",
       "23        Los Angeles\n",
       "24     Woodland Hills\n",
       "25        Los Angeles\n",
       "26         Northridge\n",
       "27        Los Angeles\n",
       "28        Studio City\n",
       "29       Porter Ranch\n",
       "30        Los Angeles\n",
       "31      Mission Hills\n",
       "32     Woodland Hills\n",
       "33          San Pedro\n",
       "34     Woodland Hills\n",
       "35        Los Angeles\n",
       "36      Beverly Hills\n",
       "37        Los Angeles\n",
       "38             Encino\n",
       "39        Los Angeles\n",
       "40         Sun Valley\n",
       "Name: addressCity, dtype: object"
      ]
     },
     "execution_count": 6,
     "metadata": {},
     "output_type": "execute_result"
    }
   ],
   "source": [
    "df = pd.DataFrame(results)\n",
    "df['addressCity']"
   ]
  },
  {
   "cell_type": "code",
   "execution_count": null,
   "metadata": {},
   "outputs": [],
   "source": [
    "df.to_csv(\"./Data/LA.csv\", index=False)"
   ]
  },
  {
   "cell_type": "code",
   "execution_count": null,
   "metadata": {},
   "outputs": [
    {
     "ename": "NameError",
     "evalue": "name 'WalkScore' is not defined",
     "output_type": "error",
     "traceback": [
      "\u001b[1;31m---------------------------------------------------------------------------\u001b[0m",
      "\u001b[1;31mNameError\u001b[0m                                 Traceback (most recent call last)",
      "Cell \u001b[1;32mIn[8], line 2\u001b[0m\n\u001b[0;32m      1\u001b[0m \u001b[38;5;66;03m# Create an instance of WalkScore\u001b[39;00m\n\u001b[1;32m----> 2\u001b[0m ws \u001b[38;5;241m=\u001b[39m \u001b[43mWalkScore\u001b[49m()\n\u001b[0;32m      4\u001b[0m \u001b[38;5;66;03m# Load your dataset into a pandas DataFrame\u001b[39;00m\n\u001b[0;32m      5\u001b[0m \u001b[38;5;66;03m# Assuming df contains your dataset\u001b[39;00m\n\u001b[0;32m      6\u001b[0m \u001b[38;5;66;03m# Replace this with loading your actual dataset\u001b[39;00m\n\u001b[0;32m      7\u001b[0m df \u001b[38;5;241m=\u001b[39m pd\u001b[38;5;241m.\u001b[39mread_csv(\u001b[38;5;124m'\u001b[39m\u001b[38;5;124m./Data/LA.csv\u001b[39m\u001b[38;5;124m'\u001b[39m)\n",
      "\u001b[1;31mNameError\u001b[0m: name 'WalkScore' is not defined"
     ]
    }
   ],
   "source": [
    "# Create an instance of WalkScore\n",
    "ws = WalkScore()\n",
    "\n",
    "# Load your dataset into a pandas DataFrame\n",
    "# Assuming df contains your dataset\n",
    "# Replace this with loading your actual dataset\n",
    "df = pd.read_csv('./Data/LA.csv')\n",
    "\n",
    "# Filter the DataFrame to include only listings in Los Angeles\n",
    "# df_la = df[df['city'] == 'Los Angeles']\n",
    "\n",
    "# Query the Walk Score API for Los Angeles listings\n",
    "ws.query_api(df)\n",
    "\n",
    "# Get and format the data into a DataFrame\n",
    "ws.get_and_format_data()\n",
    "\n",
    "# Display the resulting DataFrame\n",
    "print(ws.df_api)\n"
   ]
  },
  {
   "cell_type": "code",
   "execution_count": null,
   "metadata": {},
   "outputs": [],
   "source": []
  }
 ],
 "metadata": {
  "kernelspec": {
   "display_name": "base",
   "language": "python",
   "name": "python3"
  },
  "language_info": {
   "codemirror_mode": {
    "name": "ipython",
    "version": 3
   },
   "file_extension": ".py",
   "mimetype": "text/x-python",
   "name": "python",
   "nbconvert_exporter": "python",
   "pygments_lexer": "ipython3",
   "version": "3.10.13"
  }
 },
 "nbformat": 4,
 "nbformat_minor": 2
}
