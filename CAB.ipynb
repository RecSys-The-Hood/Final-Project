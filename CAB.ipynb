{
 "cells": [
  {
   "cell_type": "code",
   "execution_count": 1,
   "metadata": {},
   "outputs": [],
   "source": [
    "import numpy as np\n",
    "import pandas as pd\n",
    "import tensorflow as tf\n",
    "from tensorflow.keras.layers import *\n",
    "from tensorflow.keras.models import Model\n",
    "from tensorflow.keras.optimizers import Adam\n",
    "import copy \n",
    "from keras.callbacks import EarlyStopping\n",
    "\n",
    "tf.config.run_functions_eagerly(True)"
   ]
  },
  {
   "cell_type": "code",
   "execution_count": 2,
   "metadata": {},
   "outputs": [],
   "source": [
    "#states = random states generated for training, \n",
    "#total_states = possible states count\n",
    "def ohe_generator(states,total_states):\n",
    "    ohe = np.zeros((len(states),total_states))\n",
    "    for index, array in enumerate(ohe):\n",
    "        ohe[index][states[index]] = 1\n",
    "    return ohe"
   ]
  },
  {
   "cell_type": "code",
   "execution_count": null,
   "metadata": {},
   "outputs": [],
   "source": [
    "class contextual_bandits:\n",
    "    def __init__(self,states,actions):\n",
    "        self.states = states\n",
    "        self.actions = actions\n",
    "    \n",
    "    def reward(self,state,action):\n",
    "        if (state*action)%2==1:\n",
    "            return 0.5 + 0.05*((state+action)%10)+np.random.rand()*0.1\n",
    "        else:\n",
    "            return 0.9 - 0.1*((state+action)%10)+np.random.rand()*0.1\n",
    "    \n",
    "    def network(self):\n",
    "        input_ = Input(shape=(self.states))\n",
    "        dense1 = Dense(128,activation='relu')(input_)\n",
    "        dropout1 = Dropout(0.1)(dense1)\n",
    "        dense2 = Dense(64,activation='relu')(dropout1)\n",
    "        dropout2 = Dropout(0.1)(dense2)\n",
    "        dense3 = Dense(self.actions,activation='sigmoid')(dropout2)\n",
    "        model = Model(input_,dense3)\n",
    "        \n",
    "        rms = Adam(learning_rate=0.0001, beta_1=0.9, beta_2=0.999, epsilon=None, decay=0.0, amsgrad=False)\n",
    "        model.compile(loss=\"mean_absolute_error\", optimizer=rms,metrics=\"mean_absolute_error\")\n",
    "        return model   "
   ]
  },
  {
   "cell_type": "code",
   "execution_count": null,
   "metadata": {},
   "outputs": [],
   "source": [
    "batch_size = 128\n",
    "states = 100\n",
    "actions = 4\n",
    "\n",
    "def training():\n",
    "    cb = contextual_bandits(states,actions)\n",
    "    model = cb.network()\n",
    "    sample_states = np.random.choice(range(states),size=batch_size*100)\n",
    "    state_ohe = ohe_generator(sample_states, states)\n",
    "    actual_reward = [[cb.reward(x,y) for y in range(cb.actions)] for x in sample_states]\n",
    "    actual_reward_matrix = np.zeros((len(state_ohe),cb.actions))\n",
    "    for index,x in enumerate(actual_reward):\n",
    "                    actual_reward_matrix[index]=np.array(x)\n",
    "    model.fit(state_ohe,actual_reward_matrix,batch_size=batch_size,epochs=20) \n",
    "    return model"
   ]
  },
  {
   "cell_type": "code",
   "execution_count": null,
   "metadata": {},
   "outputs": [],
   "source": [
    "state_ohe = ohe_generator(np.array([x for x in range(100)]), states)\n",
    "estimated_reward = model.predict(state_ohe)\n",
    "\n",
    "print({x:np.argmax(y) for x,y in enumerate(estimated_reward)})"
   ]
  },
  {
   "cell_type": "code",
   "execution_count": null,
   "metadata": {},
   "outputs": [],
   "source": [
    "cb = contextual_bandits(100,4)\n",
    "print('\\nreward for state {}\\n'.format(0))\n",
    "for x in range(4):\n",
    "    print(cb.reward(0,x))\n",
    "    \n",
    "print('\\nreward for state {}\\n'.format(93))\n",
    "for x in range(4):\n",
    "    print(cb.reward(93,x))"
   ]
  }
 ],
 "metadata": {
  "kernelspec": {
   "display_name": "recsys",
   "language": "python",
   "name": "python3"
  },
  "language_info": {
   "codemirror_mode": {
    "name": "ipython",
    "version": 3
   },
   "file_extension": ".py",
   "mimetype": "text/x-python",
   "name": "python",
   "nbconvert_exporter": "python",
   "pygments_lexer": "ipython3",
   "version": "3.12.2"
  }
 },
 "nbformat": 4,
 "nbformat_minor": 2
}
