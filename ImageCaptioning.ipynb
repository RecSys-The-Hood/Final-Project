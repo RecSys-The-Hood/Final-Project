{
 "cells": [
  {
   "cell_type": "code",
   "execution_count": 1,
   "metadata": {},
   "outputs": [
    {
     "name": "stderr",
     "output_type": "stream",
     "text": [
      "c:\\Users\\Admin\\miniconda3\\envs\\recsys\\Lib\\site-packages\\tqdm\\auto.py:21: TqdmWarning: IProgress not found. Please update jupyter and ipywidgets. See https://ipywidgets.readthedocs.io/en/stable/user_install.html\n",
      "  from .autonotebook import tqdm as notebook_tqdm\n"
     ]
    }
   ],
   "source": [
    "import pandas as pd\n",
    "import requests\n",
    "from PIL import Image\n",
    "import torch\n",
    "from transformers import BlipProcessor, BlipForConditionalGeneration\n",
    "import numpy as np # linear algebra\n",
    "# import pandas as pd # data processing, CSV file I/O (e.g. pd.read_csv)\n",
    "\n",
    "# Input data files are available in the read-only \"../input/\" directory\n",
    "# For example, running this (by clicking run or pressing Shift+Enter) will list all files under the input directory\n",
    "\n",
    "import os\n",
    "for dirname, _, filenames in os.walk('/kaggle/input'):\n",
    "    for filename in filenames:\n",
    "        print(os.path.join(dirname, filename))"
   ]
  },
  {
   "cell_type": "code",
   "execution_count": 2,
   "metadata": {},
   "outputs": [],
   "source": [
    "\n",
    "\n",
    "# Load the DataFrame\n",
    "df = pd.read_csv('/kaggle/input/recsys-listings/data.csv')\n",
    "\n",
    "# Initialize Blip processor and model\n",
    "\n",
    "# Function to generate caption for an image\n",
    "def generate_caption(image_path):\n",
    "    # Load image\n",
    "    raw_image = Image.open(image_path).convert('RGB')\n",
    "\n",
    "    # Perform conditional image captioning\n",
    "    text = \"a photograph of\"\n",
    "    inputs = processor(raw_image, text, return_tensors=\"pt\").to(\"cuda\", torch.float16)\n",
    "    out = model.generate(**inputs, min_length=20)  # Adjust min_length as needed\n",
    "    caption = processor.decode(out[0], skip_special_tokens=True)\n",
    "\n",
    "    return caption\n",
    "\n",
    "# Function to process each row\n",
    "def process_row(row):\n",
    "    # Extract URLs from 'originalPhotos' column\n",
    "    photo_urls = eval(row['originalPhotos'])  # Convert string representation to list\n",
    "\n",
    "    # Initialize a list to store captions\n",
    "    captions = []\n",
    "\n",
    "    # Loop through each photo URL\n",
    "    for url in photo_urls:\n",
    "        # Send request to download the image\n",
    "        response = requests.get(url)\n",
    "        image_path = url.split('/')[-1]  # Extract image filename\n",
    "        with open(image_path, 'wb') as f:\n",
    "            f.write(response.content)\n",
    "\n",
    "        # Generate caption for the image\n",
    "        caption = generate_caption(image_path)\n",
    "        captions.append(caption)\n",
    "\n",
    "    # Return concatenated captions\n",
    "    return '; '.join(captions)\n",
    "\n",
    "# Apply the function to each row and add the result to a new column\n",
    "\n"
   ]
  },
  {
   "cell_type": "code",
   "execution_count": null,
   "metadata": {},
   "outputs": [],
   "source": [
    "processor = BlipProcessor.from_pretrained(\"Salesforce/blip-image-captioning-large\")\n",
    "model = BlipForConditionalGeneration.from_pretrained(\"Salesforce/blip-image-captioning-large\", torch_dtype=torch.float16).to(\"cuda\")\n"
   ]
  },
  {
   "cell_type": "code",
   "execution_count": null,
   "metadata": {},
   "outputs": [],
   "source": [
    "df['image_captions'] = df.apply(process_row, axis=1)\n",
    "\n",
    "# Save the updated DataFrame to a new CSV file\n",
    "df.to_csv('updated_data.csv', index=False)\n",
    "\n",
    "print(\"Image captions generated and added to the dataset.\")"
   ]
  },
  {
   "cell_type": "code",
   "execution_count": null,
   "metadata": {},
   "outputs": [],
   "source": []
  }
 ],
 "metadata": {
  "kernelspec": {
   "display_name": "recsys",
   "language": "python",
   "name": "python3"
  },
  "language_info": {
   "codemirror_mode": {
    "name": "ipython",
    "version": 3
   },
   "file_extension": ".py",
   "mimetype": "text/x-python",
   "name": "python",
   "nbconvert_exporter": "python",
   "pygments_lexer": "ipython3",
   "version": "3.12.2"
  }
 },
 "nbformat": 4,
 "nbformat_minor": 2
}
