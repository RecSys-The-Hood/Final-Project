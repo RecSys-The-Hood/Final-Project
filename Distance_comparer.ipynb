{
 "cells": [
  {
   "cell_type": "markdown",
   "metadata": {},
   "source": [
    "## Combine Neighbourhood Data with Listings info"
   ]
  },
  {
   "cell_type": "code",
   "execution_count": null,
   "metadata": {},
   "outputs": [],
   "source": [
    "import pandas as pd\n",
    "from geopy.distance import geodesic\n",
    "import json"
   ]
  },
  {
   "cell_type": "code",
   "execution_count": null,
   "metadata": {},
   "outputs": [],
   "source": [
    "def count_facilities_within_range(listing, df_facilities, range_km):\n",
    "    count = 0\n",
    "\n",
    "    facility_coords_list = [(facility['latitude'], facility['longitude']) for index, facility in df_facilities.iterrows()]\n",
    "    facility_coords_in_city_list = [facility_coords_list[i] for i in range(len(facility_coords_list)) if df_facilities['city'][i] == listing['addressCity']]\n",
    "    listing_coords = (listing['latitude'], listing['longitude'])\n",
    "    distances_list = [geodesic(listing_coords, facility_coords).kilometers for facility_coords in facility_coords_in_city_list]\n",
    "\n",
    "    count = sum([1 for distance in distances_list if distance <= range_km])\n",
    "    return count"
   ]
  },
  {
   "cell_type": "code",
   "execution_count": null,
   "metadata": {},
   "outputs": [],
   "source": [
    "df_leisure = pd.read_csv('combined_leisure.csv')\n",
    "df_shops = pd.read_csv('combined_shops.csv')\n",
    "df_schools = pd.read_csv('combined_schools.csv')\n",
    "df_transit = pd.read_csv('combined_transit.csv')"
   ]
  },
  {
   "cell_type": "code",
   "execution_count": null,
   "metadata": {},
   "outputs": [],
   "source": [
    "# Read JSON file containing listings data\n",
    "with open('combined_filtered_data.json', 'r') as file:\n",
    "    listings_data = json.load(file)\n",
    "df_listings = pd.DataFrame(listings_data)\n",
    "df_listings['addressCity'] = df_listings['address'].apply(lambda x: ''.join(x['city'].split()).capitalize())"
   ]
  },
  {
   "cell_type": "code",
   "execution_count": null,
   "metadata": {},
   "outputs": [],
   "source": [
    "df_listings['leisure_within_5km'] = pd.Series(dtype='float64')\n",
    "df_listings['shops_within_5km'] = pd.Series(dtype='float64')\n",
    "df_listings['schools_within_5km'] = pd.Series(dtype='float64')\n",
    "df_listings['transit_within_2km'] = pd.Series(dtype='float64')"
   ]
  },
  {
   "cell_type": "code",
   "execution_count": null,
   "metadata": {},
   "outputs": [],
   "source": [
    "df_listings['leisure_within_5km'] = df_listings.apply(lambda x: count_facilities_within_range(x, df_leisure, 5), axis=1)\n",
    "df_listings['shops_within_5km'] = df_listings.apply(lambda x: count_facilities_within_range(x, df_shops, 5), axis=1)\n",
    "df_listings['schools_within_5km'] = df_listings.apply(lambda x: count_facilities_within_range(x, df_schools, 5), axis=1)\n",
    "df_listings['transit_within_2km'] = df_listings.apply(lambda x: count_facilities_within_range(x, df_transit, 2), axis=1)"
   ]
  },
  {
   "cell_type": "code",
   "execution_count": null,
   "metadata": {},
   "outputs": [],
   "source": [
    "# Drop the original 'address' column\n",
    "df_listings.drop('address', axis=1, inplace=True)\n",
    "print(df_listings.head(10))\n",
    "print(\"Writing\")\n",
    "# Save the updated DataFrame with new columns\n",
    "df_listings.to_csv('data_new2.csv', index=False)"
   ]
  }
 ],
 "metadata": {
  "language_info": {
   "name": "python"
  }
 },
 "nbformat": 4,
 "nbformat_minor": 2
}
