{
 "cells": [
  {
   "cell_type": "code",
   "execution_count": 2,
   "metadata": {},
   "outputs": [
    {
     "name": "stdout",
     "output_type": "stream",
     "text": [
      "Collecting git+https://github.com/openai/CLIP.git\n",
      "  Cloning https://github.com/openai/CLIP.git to c:\\users\\admin\\appdata\\local\\temp\\pip-req-build-0yumw601\n",
      "  Resolved https://github.com/openai/CLIP.git to commit a1d071733d7111c9c014f024669f959182114e33\n",
      "  Preparing metadata (setup.py): started\n",
      "  Preparing metadata (setup.py): finished with status 'done'\n",
      "Requirement already satisfied: ftfy in c:\\users\\admin\\miniconda3\\envs\\recsys\\lib\\site-packages (from clip==1.0) (6.2.0)\n",
      "Requirement already satisfied: regex in c:\\users\\admin\\miniconda3\\envs\\recsys\\lib\\site-packages (from clip==1.0) (2023.12.25)\n",
      "Requirement already satisfied: tqdm in c:\\users\\admin\\miniconda3\\envs\\recsys\\lib\\site-packages (from clip==1.0) (4.66.2)\n",
      "Requirement already satisfied: torch in c:\\users\\admin\\miniconda3\\envs\\recsys\\lib\\site-packages (from clip==1.0) (2.2.2+cu121)\n",
      "Requirement already satisfied: torchvision in c:\\users\\admin\\miniconda3\\envs\\recsys\\lib\\site-packages (from clip==1.0) (0.17.2+cu121)\n",
      "Requirement already satisfied: wcwidth<0.3.0,>=0.2.12 in c:\\users\\admin\\miniconda3\\envs\\recsys\\lib\\site-packages (from ftfy->clip==1.0) (0.2.13)\n",
      "Requirement already satisfied: filelock in c:\\users\\admin\\miniconda3\\envs\\recsys\\lib\\site-packages (from torch->clip==1.0) (3.9.0)\n",
      "Requirement already satisfied: typing-extensions>=4.8.0 in c:\\users\\admin\\miniconda3\\envs\\recsys\\lib\\site-packages (from torch->clip==1.0) (4.10.0)\n",
      "Requirement already satisfied: sympy in c:\\users\\admin\\miniconda3\\envs\\recsys\\lib\\site-packages (from torch->clip==1.0) (1.12)\n",
      "Requirement already satisfied: networkx in c:\\users\\admin\\miniconda3\\envs\\recsys\\lib\\site-packages (from torch->clip==1.0) (3.2.1)\n",
      "Requirement already satisfied: jinja2 in c:\\users\\admin\\miniconda3\\envs\\recsys\\lib\\site-packages (from torch->clip==1.0) (3.1.2)\n",
      "Requirement already satisfied: fsspec in c:\\users\\admin\\miniconda3\\envs\\recsys\\lib\\site-packages (from torch->clip==1.0) (2024.3.1)\n",
      "Requirement already satisfied: numpy in c:\\users\\admin\\miniconda3\\envs\\recsys\\lib\\site-packages (from torchvision->clip==1.0) (1.26.3)\n",
      "Requirement already satisfied: pillow!=8.3.*,>=5.3.0 in c:\\users\\admin\\miniconda3\\envs\\recsys\\lib\\site-packages (from torchvision->clip==1.0) (10.2.0)\n",
      "Requirement already satisfied: colorama in c:\\users\\admin\\miniconda3\\envs\\recsys\\lib\\site-packages (from tqdm->clip==1.0) (0.4.6)\n",
      "Requirement already satisfied: MarkupSafe>=2.0 in c:\\users\\admin\\miniconda3\\envs\\recsys\\lib\\site-packages (from jinja2->torch->clip==1.0) (2.1.3)\n",
      "Requirement already satisfied: mpmath>=0.19 in c:\\users\\admin\\miniconda3\\envs\\recsys\\lib\\site-packages (from sympy->torch->clip==1.0) (1.3.0)\n",
      "Note: you may need to restart the kernel to use updated packages.\n"
     ]
    },
    {
     "name": "stderr",
     "output_type": "stream",
     "text": [
      "  Running command git clone --filter=blob:none --quiet https://github.com/openai/CLIP.git 'C:\\Users\\Admin\\AppData\\Local\\Temp\\pip-req-build-0yumw601'\n"
     ]
    },
    {
     "name": "stdout",
     "output_type": "stream",
     "text": [
      "Requirement already satisfied: open_clip_torch in c:\\users\\admin\\miniconda3\\envs\\recsys\\lib\\site-packages (2.24.0)Note: you may need to restart the kernel to use updated packages.\n",
      "\n",
      "Requirement already satisfied: torch>=1.9.0 in c:\\users\\admin\\miniconda3\\envs\\recsys\\lib\\site-packages (from open_clip_torch) (2.2.2+cu121)\n",
      "Requirement already satisfied: torchvision in c:\\users\\admin\\miniconda3\\envs\\recsys\\lib\\site-packages (from open_clip_torch) (0.17.2+cu121)\n",
      "Requirement already satisfied: regex in c:\\users\\admin\\miniconda3\\envs\\recsys\\lib\\site-packages (from open_clip_torch) (2023.12.25)\n",
      "Requirement already satisfied: ftfy in c:\\users\\admin\\miniconda3\\envs\\recsys\\lib\\site-packages (from open_clip_torch) (6.2.0)\n",
      "Requirement already satisfied: tqdm in c:\\users\\admin\\miniconda3\\envs\\recsys\\lib\\site-packages (from open_clip_torch) (4.66.2)\n",
      "Requirement already satisfied: huggingface-hub in c:\\users\\admin\\miniconda3\\envs\\recsys\\lib\\site-packages (from open_clip_torch) (0.22.2)\n",
      "Requirement already satisfied: sentencepiece in c:\\users\\admin\\miniconda3\\envs\\recsys\\lib\\site-packages (from open_clip_torch) (0.2.0)\n",
      "Requirement already satisfied: protobuf in c:\\users\\admin\\miniconda3\\envs\\recsys\\lib\\site-packages (from open_clip_torch) (4.25.3)\n",
      "Requirement already satisfied: timm in c:\\users\\admin\\miniconda3\\envs\\recsys\\lib\\site-packages (from open_clip_torch) (0.9.16)\n",
      "Requirement already satisfied: filelock in c:\\users\\admin\\miniconda3\\envs\\recsys\\lib\\site-packages (from torch>=1.9.0->open_clip_torch) (3.9.0)\n",
      "Requirement already satisfied: typing-extensions>=4.8.0 in c:\\users\\admin\\miniconda3\\envs\\recsys\\lib\\site-packages (from torch>=1.9.0->open_clip_torch) (4.10.0)\n",
      "Requirement already satisfied: sympy in c:\\users\\admin\\miniconda3\\envs\\recsys\\lib\\site-packages (from torch>=1.9.0->open_clip_torch) (1.12)\n",
      "Requirement already satisfied: networkx in c:\\users\\admin\\miniconda3\\envs\\recsys\\lib\\site-packages (from torch>=1.9.0->open_clip_torch) (3.2.1)\n",
      "Requirement already satisfied: jinja2 in c:\\users\\admin\\miniconda3\\envs\\recsys\\lib\\site-packages (from torch>=1.9.0->open_clip_torch) (3.1.2)\n",
      "Requirement already satisfied: fsspec in c:\\users\\admin\\miniconda3\\envs\\recsys\\lib\\site-packages (from torch>=1.9.0->open_clip_torch) (2024.3.1)\n",
      "Requirement already satisfied: wcwidth<0.3.0,>=0.2.12 in c:\\users\\admin\\miniconda3\\envs\\recsys\\lib\\site-packages (from ftfy->open_clip_torch) (0.2.13)\n",
      "Requirement already satisfied: packaging>=20.9 in c:\\users\\admin\\miniconda3\\envs\\recsys\\lib\\site-packages (from huggingface-hub->open_clip_torch) (24.0)\n",
      "Requirement already satisfied: pyyaml>=5.1 in c:\\users\\admin\\miniconda3\\envs\\recsys\\lib\\site-packages (from huggingface-hub->open_clip_torch) (6.0.1)\n",
      "Requirement already satisfied: requests in c:\\users\\admin\\miniconda3\\envs\\recsys\\lib\\site-packages (from huggingface-hub->open_clip_torch) (2.31.0)\n",
      "Requirement already satisfied: colorama in c:\\users\\admin\\miniconda3\\envs\\recsys\\lib\\site-packages (from tqdm->open_clip_torch) (0.4.6)\n",
      "Requirement already satisfied: safetensors in c:\\users\\admin\\miniconda3\\envs\\recsys\\lib\\site-packages (from timm->open_clip_torch) (0.4.2)\n",
      "Requirement already satisfied: numpy in c:\\users\\admin\\miniconda3\\envs\\recsys\\lib\\site-packages (from torchvision->open_clip_torch) (1.26.3)\n",
      "Requirement already satisfied: pillow!=8.3.*,>=5.3.0 in c:\\users\\admin\\miniconda3\\envs\\recsys\\lib\\site-packages (from torchvision->open_clip_torch) (10.2.0)\n",
      "Requirement already satisfied: MarkupSafe>=2.0 in c:\\users\\admin\\miniconda3\\envs\\recsys\\lib\\site-packages (from jinja2->torch>=1.9.0->open_clip_torch) (2.1.3)\n",
      "Requirement already satisfied: charset-normalizer<4,>=2 in c:\\users\\admin\\miniconda3\\envs\\recsys\\lib\\site-packages (from requests->huggingface-hub->open_clip_torch) (2.0.4)\n",
      "Requirement already satisfied: idna<4,>=2.5 in c:\\users\\admin\\miniconda3\\envs\\recsys\\lib\\site-packages (from requests->huggingface-hub->open_clip_torch) (3.4)\n",
      "Requirement already satisfied: urllib3<3,>=1.21.1 in c:\\users\\admin\\miniconda3\\envs\\recsys\\lib\\site-packages (from requests->huggingface-hub->open_clip_torch) (2.1.0)\n",
      "Requirement already satisfied: certifi>=2017.4.17 in c:\\users\\admin\\miniconda3\\envs\\recsys\\lib\\site-packages (from requests->huggingface-hub->open_clip_torch) (2024.2.2)\n",
      "Requirement already satisfied: mpmath>=0.19 in c:\\users\\admin\\miniconda3\\envs\\recsys\\lib\\site-packages (from sympy->torch>=1.9.0->open_clip_torch) (1.3.0)\n",
      "Requirement already satisfied: sentence_transformers in c:\\users\\admin\\miniconda3\\envs\\recsys\\lib\\site-packages (2.6.1)\n",
      "Requirement already satisfied: transformers<5.0.0,>=4.32.0 in c:\\users\\admin\\miniconda3\\envs\\recsys\\lib\\site-packages (from sentence_transformers) (4.39.3)\n",
      "Requirement already satisfied: tqdm in c:\\users\\admin\\miniconda3\\envs\\recsys\\lib\\site-packages (from sentence_transformers) (4.66.2)\n",
      "Requirement already satisfied: torch>=1.11.0 in c:\\users\\admin\\miniconda3\\envs\\recsys\\lib\\site-packages (from sentence_transformers) (2.2.2+cu121)\n",
      "Requirement already satisfied: numpy in c:\\users\\admin\\miniconda3\\envs\\recsys\\lib\\site-packages (from sentence_transformers) (1.26.3)\n",
      "Requirement already satisfied: scikit-learn in c:\\users\\admin\\miniconda3\\envs\\recsys\\lib\\site-packages (from sentence_transformers) (1.3.0)\n",
      "Requirement already satisfied: scipy in c:\\users\\admin\\miniconda3\\envs\\recsys\\lib\\site-packages (from sentence_transformers) (1.12.0)\n",
      "Requirement already satisfied: huggingface-hub>=0.15.1 in c:\\users\\admin\\miniconda3\\envs\\recsys\\lib\\site-packages (from sentence_transformers) (0.22.2)\n",
      "Requirement already satisfied: Pillow in c:\\users\\admin\\miniconda3\\envs\\recsys\\lib\\site-packages (from sentence_transformers) (10.2.0)\n",
      "Requirement already satisfied: filelock in c:\\users\\admin\\miniconda3\\envs\\recsys\\lib\\site-packages (from huggingface-hub>=0.15.1->sentence_transformers) (3.9.0)\n",
      "Requirement already satisfied: fsspec>=2023.5.0 in c:\\users\\admin\\miniconda3\\envs\\recsys\\lib\\site-packages (from huggingface-hub>=0.15.1->sentence_transformers) (2024.3.1)\n",
      "Requirement already satisfied: packaging>=20.9 in c:\\users\\admin\\miniconda3\\envs\\recsys\\lib\\site-packages (from huggingface-hub>=0.15.1->sentence_transformers) (24.0)\n",
      "Requirement already satisfied: pyyaml>=5.1 in c:\\users\\admin\\miniconda3\\envs\\recsys\\lib\\site-packages (from huggingface-hub>=0.15.1->sentence_transformers) (6.0.1)\n",
      "Requirement already satisfied: requests in c:\\users\\admin\\miniconda3\\envs\\recsys\\lib\\site-packages (from huggingface-hub>=0.15.1->sentence_transformers) (2.31.0)\n",
      "Requirement already satisfied: typing-extensions>=3.7.4.3 in c:\\users\\admin\\miniconda3\\envs\\recsys\\lib\\site-packages (from huggingface-hub>=0.15.1->sentence_transformers) (4.10.0)\n",
      "Requirement already satisfied: sympy in c:\\users\\admin\\miniconda3\\envs\\recsys\\lib\\site-packages (from torch>=1.11.0->sentence_transformers) (1.12)\n",
      "Requirement already satisfied: networkx in c:\\users\\admin\\miniconda3\\envs\\recsys\\lib\\site-packages (from torch>=1.11.0->sentence_transformers) (3.2.1)\n",
      "Requirement already satisfied: jinja2 in c:\\users\\admin\\miniconda3\\envs\\recsys\\lib\\site-packages (from torch>=1.11.0->sentence_transformers) (3.1.2)\n",
      "Requirement already satisfied: colorama in c:\\users\\admin\\miniconda3\\envs\\recsys\\lib\\site-packages (from tqdm->sentence_transformers) (0.4.6)\n",
      "Requirement already satisfied: regex!=2019.12.17 in c:\\users\\admin\\miniconda3\\envs\\recsys\\lib\\site-packages (from transformers<5.0.0,>=4.32.0->sentence_transformers) (2023.12.25)\n",
      "Requirement already satisfied: tokenizers<0.19,>=0.14 in c:\\users\\admin\\miniconda3\\envs\\recsys\\lib\\site-packages (from transformers<5.0.0,>=4.32.0->sentence_transformers) (0.15.2)\n",
      "Requirement already satisfied: safetensors>=0.4.1 in c:\\users\\admin\\miniconda3\\envs\\recsys\\lib\\site-packages (from transformers<5.0.0,>=4.32.0->sentence_transformers) (0.4.2)\n",
      "Requirement already satisfied: joblib>=1.1.1 in c:\\users\\admin\\miniconda3\\envs\\recsys\\lib\\site-packages (from scikit-learn->sentence_transformers) (1.2.0)\n",
      "Requirement already satisfied: threadpoolctl>=2.0.0 in c:\\users\\admin\\miniconda3\\envs\\recsys\\lib\\site-packages (from scikit-learn->sentence_transformers) (2.2.0)\n",
      "Requirement already satisfied: MarkupSafe>=2.0 in c:\\users\\admin\\miniconda3\\envs\\recsys\\lib\\site-packages (from jinja2->torch>=1.11.0->sentence_transformers) (2.1.3)\n",
      "Requirement already satisfied: charset-normalizer<4,>=2 in c:\\users\\admin\\miniconda3\\envs\\recsys\\lib\\site-packages (from requests->huggingface-hub>=0.15.1->sentence_transformers) (2.0.4)\n",
      "Requirement already satisfied: idna<4,>=2.5 in c:\\users\\admin\\miniconda3\\envs\\recsys\\lib\\site-packages (from requests->huggingface-hub>=0.15.1->sentence_transformers) (3.4)\n",
      "Requirement already satisfied: urllib3<3,>=1.21.1 in c:\\users\\admin\\miniconda3\\envs\\recsys\\lib\\site-packages (from requests->huggingface-hub>=0.15.1->sentence_transformers) (2.1.0)\n",
      "Requirement already satisfied: certifi>=2017.4.17 in c:\\users\\admin\\miniconda3\\envs\\recsys\\lib\\site-packages (from requests->huggingface-hub>=0.15.1->sentence_transformers) (2024.2.2)\n",
      "Requirement already satisfied: mpmath>=0.19 in c:\\users\\admin\\miniconda3\\envs\\recsys\\lib\\site-packages (from sympy->torch>=1.11.0->sentence_transformers) (1.3.0)\n",
      "Note: you may need to restart the kernel to use updated packages.\n"
     ]
    }
   ],
   "source": [
    "%pip install git+https://github.com/openai/CLIP.git\n",
    "%pip install open_clip_torch\n",
    "%pip install sentence_transformers"
   ]
  },
  {
   "cell_type": "code",
   "execution_count": 3,
   "metadata": {},
   "outputs": [
    {
     "name": "stderr",
     "output_type": "stream",
     "text": [
      "c:\\Users\\Admin\\miniconda3\\envs\\recsys\\Lib\\site-packages\\tqdm\\auto.py:21: TqdmWarning: IProgress not found. Please update jupyter and ipywidgets. See https://ipywidgets.readthedocs.io/en/stable/user_install.html\n",
      "  from .autonotebook import tqdm as notebook_tqdm\n"
     ]
    }
   ],
   "source": [
    "import torch\n",
    "import open_clip\n",
    "import cv2\n",
    "from sentence_transformers import util\n",
    "from PIL import Image"
   ]
  },
  {
   "cell_type": "code",
   "execution_count": 4,
   "metadata": {},
   "outputs": [],
   "source": [
    "device = \"cuda\" if torch.cuda.is_available() else \"cpu\"\n",
    "model, _, preprocess = open_clip.create_model_and_transforms('ViT-B-16-plus-240', pretrained=\"laion400m_e32\")\n",
    "model.to(device)\n",
    "def imageEncoder(img):\n",
    "    img1 = Image.fromarray(img).convert('RGB')\n",
    "    img1 = preprocess(img1).unsqueeze(0).to(device)\n",
    "    img1 = model.encode_image(img1)\n",
    "    return img1\n",
    "def generateScore(image1, image2):\n",
    "    test_img = cv2.imread(image1, cv2.IMREAD_UNCHANGED)\n",
    "    data_img = cv2.imread(image2, cv2.IMREAD_UNCHANGED)\n",
    "    img1 = imageEncoder(test_img)\n",
    "    img2 = imageEncoder(data_img)\n",
    "    cos_scores = util.pytorch_cos_sim(img1, img2)\n",
    "    score = round(float(cos_scores[0][0])*100, 2)\n",
    "    return score"
   ]
  },
  {
   "cell_type": "code",
   "execution_count": 5,
   "metadata": {},
   "outputs": [
    {
     "name": "stderr",
     "output_type": "stream",
     "text": [
      "c:\\Users\\Admin\\miniconda3\\envs\\recsys\\Lib\\site-packages\\torch\\nn\\functional.py:5476: UserWarning: 1Torch was not compiled with flash attention. (Triggered internally at ..\\aten\\src\\ATen\\native\\transformers\\cuda\\sdp_utils.cpp:263.)\n",
      "  attn_output = scaled_dot_product_attention(q, k, v, attn_mask, dropout_p, is_causal)\n"
     ]
    },
    {
     "name": "stdout",
     "output_type": "stream",
     "text": [
      "similarity Score:  93.83\n"
     ]
    }
   ],
   "source": [
    "\n",
    "print(f\"similarity Score: \", round(generateScore(\"./Image1.jpg\", \"./Image2.jpg\"), 2))"
   ]
  },
  {
   "cell_type": "code",
   "execution_count": null,
   "metadata": {},
   "outputs": [],
   "source": []
  }
 ],
 "metadata": {
  "kernelspec": {
   "display_name": "recsys",
   "language": "python",
   "name": "python3"
  },
  "language_info": {
   "codemirror_mode": {
    "name": "ipython",
    "version": 3
   },
   "file_extension": ".py",
   "mimetype": "text/x-python",
   "name": "python",
   "nbconvert_exporter": "python",
   "pygments_lexer": "ipython3",
   "version": "3.12.2"
  }
 },
 "nbformat": 4,
 "nbformat_minor": 2
}
