{
 "cells": [
  {
   "cell_type": "markdown",
   "metadata": {},
   "source": [
    "## Concatenate Image Captions with Descriptions"
   ]
  },
  {
   "cell_type": "code",
   "execution_count": null,
   "metadata": {},
   "outputs": [],
   "source": [
    "import pandas as pd"
   ]
  },
  {
   "cell_type": "code",
   "execution_count": null,
   "metadata": {},
   "outputs": [],
   "source": [
    "# Convert string representations of lists into actual lists\n",
    "def evaluate_list(x):\n",
    "    try:\n",
    "        return eval(x)\n",
    "    except Exception as e:\n",
    "        return []"
   ]
  },
  {
   "cell_type": "code",
   "execution_count": null,
   "metadata": {},
   "outputs": [],
   "source": [
    "# Read the CSV file into a DataFrame\n",
    "df = pd.read_csv(\"Final_Combined_Dataset.csv\")"
   ]
  },
  {
   "cell_type": "code",
   "execution_count": null,
   "metadata": {},
   "outputs": [],
   "source": [
    "# Remove 'a photograph of' from 'image_captions' column\n",
    "df['image_captions'] = df['image_captions'].str.replace('a photograph of ', '', regex=False)\n",
    "\n",
    "# Concatenate 'description' and modified 'image_captions' columns\n",
    "df['concatenated_desc'] = df['description'] + '\\n' + df['image_captions']\n",
    "\n",
    "# Replace empty strings with empty lists in the 'homeInsights' column\n",
    "df['homeInsights'] = df['homeInsights'].replace('', '[]')\n",
    "\n",
    "\n",
    "df['homeInsights'] = df['homeInsights'].apply(evaluate_list)"
   ]
  },
  {
   "cell_type": "code",
   "execution_count": null,
   "metadata": {},
   "outputs": [],
   "source": [
    "for i in range(len(df)):\n",
    "    if isinstance(df['homeInsights'][i], list) and len(df['homeInsights'][i]) > 0:\n",
    "        str1 = ''\n",
    "        for j in range(len(df['homeInsights'][i][0]['insights'])):\n",
    "            if 'phrases' in df['homeInsights'][i][0]['insights'][j] and len(df['homeInsights'][i][0]['insights'][j]['phrases']) > 0:\n",
    "                str1 += ' '.join(df['homeInsights'][i][0]['insights'][j]['phrases'])\n",
    "        df.loc[i, 'concatenated_desc'] = str(df.loc[i, 'concatenated_desc']) + '\\n' + str1\n",
    "    else:\n",
    "        continue\n",
    "\n",
    "\n",
    "df.to_csv(\"Final_Combined_Dataset2.csv\", index=False)"
   ]
  }
 ],
 "metadata": {
  "language_info": {
   "name": "python"
  }
 },
 "nbformat": 4,
 "nbformat_minor": 2
}
