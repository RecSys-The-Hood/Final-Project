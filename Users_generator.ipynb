{
 "cells": [
  {
   "cell_type": "code",
   "execution_count": 1,
   "metadata": {},
   "outputs": [],
   "source": [
    "import pandas as pd"
   ]
  },
  {
   "cell_type": "code",
   "execution_count": 2,
   "metadata": {},
   "outputs": [
    {
     "data": {
      "text/html": [
       "<div>\n",
       "<style scoped>\n",
       "    .dataframe tbody tr th:only-of-type {\n",
       "        vertical-align: middle;\n",
       "    }\n",
       "\n",
       "    .dataframe tbody tr th {\n",
       "        vertical-align: top;\n",
       "    }\n",
       "\n",
       "    .dataframe thead th {\n",
       "        text-align: right;\n",
       "    }\n",
       "</style>\n",
       "<table border=\"1\" class=\"dataframe\">\n",
       "  <thead>\n",
       "    <tr style=\"text-align: right;\">\n",
       "      <th></th>\n",
       "      <th>weight_bed</th>\n",
       "      <th>weight_bath</th>\n",
       "      <th>weight_price</th>\n",
       "      <th>weight_area</th>\n",
       "      <th>weight_leisure</th>\n",
       "      <th>weight_shop</th>\n",
       "      <th>weight_school</th>\n",
       "      <th>weight_transit</th>\n",
       "      <th>weight_type</th>\n",
       "      <th>val_bed</th>\n",
       "      <th>val_bath</th>\n",
       "      <th>val_price</th>\n",
       "      <th>val_area</th>\n",
       "      <th>val_leisure</th>\n",
       "      <th>val_shop</th>\n",
       "      <th>val_school</th>\n",
       "      <th>val_transit</th>\n",
       "      <th>val_type</th>\n",
       "      <th>description</th>\n",
       "      <th>state</th>\n",
       "    </tr>\n",
       "  </thead>\n",
       "  <tbody>\n",
       "  </tbody>\n",
       "</table>\n",
       "</div>"
      ],
      "text/plain": [
       "Empty DataFrame\n",
       "Columns: [weight_bed, weight_bath, weight_price, weight_area, weight_leisure, weight_shop, weight_school, weight_transit, weight_type, val_bed, val_bath, val_price, val_area, val_leisure, val_shop, val_school, val_transit, val_type, description, state]\n",
       "Index: []"
      ]
     },
     "execution_count": 2,
     "metadata": {},
     "output_type": "execute_result"
    }
   ],
   "source": [
    "users = pd.DataFrame(columns=['weight_bed', 'weight_bath', 'weight_price', 'weight_area', 'weight_leisure', 'weight_shop', 'weight_school', 'weight_transit', 'weight_type',\n",
    "                              'val_bed', 'val_bath', 'val_price', 'val_area', 'val_leisure', 'val_shop', 'val_school', 'val_transit', 'val_type', 'description', 'state'])\n",
    "\n",
    "users"
   ]
  },
  {
   "cell_type": "code",
   "execution_count": 3,
   "metadata": {},
   "outputs": [
    {
     "data": {
      "text/html": [
       "<div>\n",
       "<style scoped>\n",
       "    .dataframe tbody tr th:only-of-type {\n",
       "        vertical-align: middle;\n",
       "    }\n",
       "\n",
       "    .dataframe tbody tr th {\n",
       "        vertical-align: top;\n",
       "    }\n",
       "\n",
       "    .dataframe thead th {\n",
       "        text-align: right;\n",
       "    }\n",
       "</style>\n",
       "<table border=\"1\" class=\"dataframe\">\n",
       "  <thead>\n",
       "    <tr style=\"text-align: right;\">\n",
       "      <th></th>\n",
       "      <th>weight_bed</th>\n",
       "      <th>weight_bath</th>\n",
       "      <th>weight_price</th>\n",
       "      <th>weight_area</th>\n",
       "      <th>weight_leisure</th>\n",
       "      <th>weight_shop</th>\n",
       "      <th>weight_school</th>\n",
       "      <th>weight_transit</th>\n",
       "      <th>weight_type</th>\n",
       "      <th>val_bed</th>\n",
       "      <th>val_bath</th>\n",
       "      <th>val_price</th>\n",
       "      <th>val_area</th>\n",
       "      <th>val_leisure</th>\n",
       "      <th>val_shop</th>\n",
       "      <th>val_school</th>\n",
       "      <th>val_transit</th>\n",
       "      <th>val_type</th>\n",
       "      <th>description</th>\n",
       "      <th>state</th>\n",
       "    </tr>\n",
       "  </thead>\n",
       "  <tbody>\n",
       "    <tr>\n",
       "      <th>0</th>\n",
       "      <td>5</td>\n",
       "      <td>5</td>\n",
       "      <td>1</td>\n",
       "      <td>1</td>\n",
       "      <td>1</td>\n",
       "      <td>1</td>\n",
       "      <td>1</td>\n",
       "      <td>1</td>\n",
       "      <td>1</td>\n",
       "      <td>2</td>\n",
       "      <td>1</td>\n",
       "      <td>1700000</td>\n",
       "      <td>2000</td>\n",
       "      <td>20</td>\n",
       "      <td>400</td>\n",
       "      <td>250</td>\n",
       "      <td>200</td>\n",
       "      <td>2</td>\n",
       "      <td>A large backyard, swimming pool, spacious livi...</td>\n",
       "      <td>NY</td>\n",
       "    </tr>\n",
       "  </tbody>\n",
       "</table>\n",
       "</div>"
      ],
      "text/plain": [
       "   weight_bed  weight_bath  weight_price  weight_area  weight_leisure  \\\n",
       "0           5            5             1            1               1   \n",
       "\n",
       "   weight_shop  weight_school  weight_transit  weight_type  val_bed  val_bath  \\\n",
       "0            1              1               1            1        2         1   \n",
       "\n",
       "   val_price  val_area  val_leisure  val_shop  val_school  val_transit  \\\n",
       "0    1700000      2000           20       400         250          200   \n",
       "\n",
       "   val_type                                        description state  \n",
       "0         2  A large backyard, swimming pool, spacious livi...    NY  "
      ]
     },
     "execution_count": 3,
     "metadata": {},
     "output_type": "execute_result"
    }
   ],
   "source": [
    "users.loc[len(users)] = {\n",
    "    'weight_bed' : 5, \n",
    "    'weight_bath': 5, \n",
    "    'weight_price': 1, \n",
    "    'weight_area' : 1, \n",
    "    'weight_leisure' : 1, \n",
    "    'weight_shop' : 1, \n",
    "    'weight_school' : 1, \n",
    "    'weight_transit' : 1, \n",
    "    'weight_type' : 1,                          \n",
    "    'val_bed' : 2, \n",
    "    'val_bath' : 1, \n",
    "    'val_price' : 1700000,\n",
    "    'val_area' : 2000, \n",
    "    'val_leisure' : 20, \n",
    "    'val_shop' : 400, \n",
    "    'val_school' : 250, \n",
    "    'val_transit' : 200, \n",
    "    'val_type' : 2, \n",
    "    'description': \"A large backyard, swimming pool, spacious living room, furniture in bedroom, tiled bathroom\",\n",
    "    'state' : 'NY'\n",
    "}\n",
    "\n",
    "users"
   ]
  },
  {
   "cell_type": "code",
   "execution_count": 4,
   "metadata": {},
   "outputs": [],
   "source": [
    "users.to_csv(\"Users.csv\", index=False)"
   ]
  }
 ],
 "metadata": {
  "kernelspec": {
   "display_name": "base",
   "language": "python",
   "name": "python3"
  },
  "language_info": {
   "codemirror_mode": {
    "name": "ipython",
    "version": 3
   },
   "file_extension": ".py",
   "mimetype": "text/x-python",
   "name": "python",
   "nbconvert_exporter": "python",
   "pygments_lexer": "ipython3",
   "version": "3.10.13"
  }
 },
 "nbformat": 4,
 "nbformat_minor": 2
}
