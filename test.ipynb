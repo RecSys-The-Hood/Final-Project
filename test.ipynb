{
 "cells": [
  {
   "cell_type": "code",
   "execution_count": 7,
   "metadata": {},
   "outputs": [],
   "source": [
    "import pandas as pd"
   ]
  },
  {
   "cell_type": "code",
   "execution_count": 8,
   "metadata": {},
   "outputs": [
    {
     "name": "stdout",
     "output_type": "stream",
     "text": [
      "6936\n"
     ]
    }
   ],
   "source": [
    "df = pd.read_csv(\"./Final_Combined_Dataset.csv\")\n",
    "# df = df[4000:5000]\n",
    "print(df.shape[0])\n",
    "\n",
    "n = df.shape[0]\n",
    "step = n//4 if n%4 == 0 else n//4+1\n",
    "\n",
    "for i in range(0,n,step):\n",
    "    df_temp = df[i:i+step]\n",
    "    df_temp.to_csv(f\"./big_data_{i}_{i+step}.csv\", index=False)"
   ]
  },
  {
   "cell_type": "code",
   "execution_count": 9,
   "metadata": {},
   "outputs": [],
   "source": [
    "# df = pd.read_csv(\"data_truncated.csv\")\n",
    "\n",
    "# for i in range(200,df.shape[0],100):\n",
    "#     df_new = df[i:i+100]\n",
    "#     df_new.to_csv(f\"./data_truncated_{i}_{i+100}.csv\", index=False)"
   ]
  },
  {
   "cell_type": "code",
   "execution_count": null,
   "metadata": {},
   "outputs": [],
   "source": []
  },
  {
   "cell_type": "code",
   "execution_count": null,
   "metadata": {},
   "outputs": [],
   "source": []
  },
  {
   "cell_type": "code",
   "execution_count": null,
   "metadata": {},
   "outputs": [],
   "source": []
  }
 ],
 "metadata": {
  "kernelspec": {
   "display_name": "base",
   "language": "python",
   "name": "python3"
  },
  "language_info": {
   "codemirror_mode": {
    "name": "ipython",
    "version": 3
   },
   "file_extension": ".py",
   "mimetype": "text/x-python",
   "name": "python",
   "nbconvert_exporter": "python",
   "pygments_lexer": "ipython3",
   "version": "3.10.13"
  }
 },
 "nbformat": 4,
 "nbformat_minor": 2
}
